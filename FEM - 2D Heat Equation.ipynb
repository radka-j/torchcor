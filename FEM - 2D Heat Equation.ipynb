{
 "cells": [
  {
   "cell_type": "code",
   "execution_count": 1,
   "id": "ae1a16ce-4cf4-4d68-8948-4416c45a7b86",
   "metadata": {},
   "outputs": [],
   "source": [
    "import numpy as np\n",
    "import matplotlib.pyplot as plt\n",
    "from matplotlib import tri\n",
    "import matplotlib.animation as animation\n",
    "from matplotlib.animation import FuncAnimation"
   ]
  },
  {
   "cell_type": "code",
   "execution_count": 12,
   "id": "a179c476-cf12-4ab6-8ecf-5018b3dd37c2",
   "metadata": {},
   "outputs": [],
   "source": [
    "# Step 1: Define problem parameters\n",
    "L = 50  # Length of domain in x and y directions\n",
    "Nx, Ny = 50, 50  # Number of grid points in x and y\n",
    "alpha = 2  # Thermal diffusivity\n",
    "T = 50.0  # Total time\n",
    "dt = 0.125  # Time step size\n",
    "nt = 100  # Number of time steps"
   ]
  },
  {
   "cell_type": "code",
   "execution_count": 13,
   "id": "26e9687d-83e7-4672-afb3-3c5ee0b62daf",
   "metadata": {},
   "outputs": [],
   "source": [
    "# Step 2: Generate grid (structured triangular mesh)\n",
    "x = np.linspace(0, L, Nx)\n",
    "y = np.linspace(0, L, Ny)\n",
    "X, Y = np.meshgrid(x, y)\n",
    "triangulation = tri.Triangulation(X.flatten(), Y.flatten())"
   ]
  },
  {
   "cell_type": "code",
   "execution_count": 14,
   "id": "84ac0478-ca15-437f-a3eb-9cb92aa3b294",
   "metadata": {},
   "outputs": [],
   "source": [
    "# Step 3: Initial condition\n",
    "u0 = np.zeros((L * L,))\n",
    "u0[:L] = 100"
   ]
  },
  {
   "cell_type": "code",
   "execution_count": 15,
   "id": "1330091c-7fb0-4d2f-b1d9-7700aeff36bc",
   "metadata": {},
   "outputs": [],
   "source": [
    "def assemble_matrices(triangulation, alpha):\n",
    "    npoints = len(triangulation.x)  # Total number of points in the mesh\n",
    "    K = np.zeros((npoints, npoints))  # Global stiffness matrix\n",
    "    M = np.zeros((npoints, npoints))  # Global mass matrix\n",
    "    \n",
    "    for element in triangulation.triangles:\n",
    "        # Get the coordinates of the three vertices of the triangle\n",
    "        vertices = element[:]\n",
    "        x_coords = triangulation.x[vertices]\n",
    "        \n",
    "        y_coords = triangulation.y[vertices]\n",
    "        # Compute area of the triangle (used in both stiffness and mass matrices)\n",
    "        area = 0.5 * abs(\n",
    "            x_coords[0]*(y_coords[1]-y_coords[2]) +\n",
    "            x_coords[1]*(y_coords[2]-y_coords[0]) +\n",
    "            x_coords[2]*(y_coords[0]-y_coords[1])\n",
    "        )\n",
    "        # Local stiffness matrix (based on gradients of linear basis functions)\n",
    "        Ke = (alpha / (4 * area)) * np.array([[2, -1, -1],\n",
    "                                              [-1, 2, -1],\n",
    "                                              [-1, -1, 2]])\n",
    "        \n",
    "        # Local mass matrix (based on linear basis functions)\n",
    "        Me = (area / 12) * np.array([[2, 1, 1],\n",
    "                                     [1, 2, 1],\n",
    "                                     [1, 1, 2]])\n",
    "        \n",
    "        # Add local contributions to the global matrices\n",
    "        for i in range(3):\n",
    "            for j in range(3):\n",
    "                K[vertices[i], vertices[j]] += Ke[i, j]\n",
    "                M[vertices[i], vertices[j]] += Me[i, j]\n",
    "    \n",
    "    return K, M"
   ]
  },
  {
   "cell_type": "code",
   "execution_count": 16,
   "id": "a63518e4-4c5e-4379-9051-b0e96da69915",
   "metadata": {},
   "outputs": [],
   "source": [
    "K, M = assemble_matrices(triangulation, alpha)"
   ]
  },
  {
   "cell_type": "code",
   "execution_count": 17,
   "id": "c54f2710-b1dc-44ab-99fb-0304d7a343de",
   "metadata": {},
   "outputs": [],
   "source": [
    "# Step 5: Time-stepping loop (Forward Euler)\n",
    "U = np.zeros((nt, L, L))\n",
    "u = u0\n",
    "M_inv = np.linalg.inv(M)\n",
    "for n in range(nt):\n",
    "    u_new = u - dt * np.dot(M_inv, np.dot(K, u))\n",
    "    u = u_new\n",
    "    U[n, :, :] = u.reshape((L, L))"
   ]
  },
  {
   "cell_type": "code",
   "execution_count": 18,
   "id": "2492f6d2-877e-437d-a478-2920e6e3146a",
   "metadata": {},
   "outputs": [
    {
     "data": {
      "image/png": "[encoded data removed]",
      "text/plain": [
       "<Figure size 640x480 with 2 Axes>"
      ]
     },
     "metadata": {},
     "output_type": "display_data"
    }
   ],
   "source": [
    "def plotheatmap(u_k, k):\n",
    "    # Clear the current plot figure\n",
    "    plt.clf()\n",
    "\n",
    "    plt.title(f\"Temperature at t = {k*dt:.3f} unit time\")\n",
    "    plt.xlabel(\"x\")\n",
    "    plt.ylabel(\"y\")\n",
    "\n",
    "    # This is to plot u_k (u at time-step k)\n",
    "    plt.pcolormesh(u_k, cmap=plt.cm.jet, vmin=0, vmax=100)\n",
    "    plt.colorbar()\n",
    "\n",
    "    return plt\n",
    "\n",
    "def animate(k):\n",
    "    plotheatmap(U[k], k)\n",
    "\n",
    "anim = animation.FuncAnimation(plt.figure(), animate, interval=1, frames=nt, repeat=False)\n",
    "anim.save(\"heat_equation_solution.gif\")"
   ]
  },
  {
   "cell_type": "code",
   "execution_count": null,
   "id": "47453c1c-8992-4f4f-a50a-1ce955861f67",
   "metadata": {},
   "outputs": [],
   "source": []
  }
 ],
 "metadata": {
  "kernelspec": {
   "display_name": "Python 3 (ipykernel)",
   "language": "python",
   "name": "python3"
  },
  "language_info": {
   "codemirror_mode": {
    "name": "ipython",
    "version": 3
   },
   "file_extension": ".py",
   "mimetype": "text/x-python",
   "name": "python",
   "nbconvert_exporter": "python",
   "pygments_lexer": "ipython3",
   "version": "3.12.2"
  }
 },
 "nbformat": 4,
 "nbformat_minor": 5
}
