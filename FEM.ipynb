{
 "cells": [
  {
   "cell_type": "code",
   "execution_count": 1,
   "id": "ae1a16ce-4cf4-4d68-8948-4416c45a7b86",
   "metadata": {},
   "outputs": [],
   "source": [
    "import numpy as np\n",
    "import matplotlib.pyplot as plt\n",
    "from matplotlib import tri\n",
    "import matplotlib.animation as animation\n",
    "from matplotlib.animation import FuncAnimation"
   ]
  },
  {
   "cell_type": "code",
   "execution_count": 2,
   "id": "a179c476-cf12-4ab6-8ecf-5018b3dd37c2",
   "metadata": {},
   "outputs": [],
   "source": [
    "# Step 1: Define problem parameters\n",
    "L = 50  # Length of domain in x and y directions\n",
    "Nx, Ny = 50, 50  # Number of grid points in x and y\n",
    "alpha = 2  # Thermal diffusivity\n",
    "T = 1.0  # Total time\n",
    "dt = 0.125  # Time step size\n",
    "nt = 100  # Number of time steps"
   ]
  },
  {
   "cell_type": "code",
   "execution_count": 3,
   "id": "26e9687d-83e7-4672-afb3-3c5ee0b62daf",
   "metadata": {},
   "outputs": [],
   "source": [
    "# Step 2: Generate grid (structured triangular mesh)\n",
    "x = np.linspace(0, L, Nx)\n",
    "y = np.linspace(0, L, Ny)\n",
    "X, Y = np.meshgrid(x, y)\n",
    "triangulation = tri.Triangulation(X.flatten(), Y.flatten())"
   ]
  },
  {
   "cell_type": "code",
   "execution_count": 4,
   "id": "84ac0478-ca15-437f-a3eb-9cb92aa3b294",
   "metadata": {},
   "outputs": [],
   "source": [
    "# Step 3: Initial condition\n",
    "u = np.zeros((L * L,))\n",
    "u[:L] = 100"
   ]
  },
  {
   "cell_type": "code",
   "execution_count": 5,
   "id": "1330091c-7fb0-4d2f-b1d9-7700aeff36bc",
   "metadata": {},
   "outputs": [],
   "source": [
    "def assemble_matrices(triangulation, alpha):\n",
    "    npoints = len(triangulation.x)  # Total number of points in the mesh\n",
    "    K = np.zeros((npoints, npoints))  # Global stiffness matrix\n",
    "    M = np.zeros((npoints, npoints))  # Global mass matrix\n",
    "    \n",
    "    for element in triangulation.triangles:\n",
    "        # Get the coordinates of the three vertices of the triangle\n",
    "        vertices = element[:]\n",
    "        x_coords = triangulation.x[vertices]\n",
    "        \n",
    "        y_coords = triangulation.y[vertices]\n",
    "        # Compute area of the triangle (used in both stiffness and mass matrices)\n",
    "        area = 0.5 * abs(\n",
    "            x_coords[0]*(y_coords[1]-y_coords[2]) +\n",
    "            x_coords[1]*(y_coords[2]-y_coords[0]) +\n",
    "            x_coords[2]*(y_coords[0]-y_coords[1])\n",
    "        )\n",
    "        \n",
    "        # Local stiffness matrix (based on gradients of linear basis functions)\n",
    "        Ke = (alpha / (4 * area)) * np.array([[2, -1, -1],\n",
    "                                              [-1, 2, -1],\n",
    "                                              [-1, -1, 2]])\n",
    "        \n",
    "        # Local mass matrix (based on linear basis functions)\n",
    "        Me = (area / 12) * np.array([[2, 1, 1],\n",
    "                                     [1, 2, 1],\n",
    "                                     [1, 1, 2]])\n",
    "        \n",
    "        # Add local contributions to the global matrices\n",
    "        for i in range(3):\n",
    "            for j in range(3):\n",
    "                K[vertices[i], vertices[j]] += Ke[i, j]\n",
    "                M[vertices[i], vertices[j]] += Me[i, j]\n",
    "    \n",
    "    return K, M"
   ]
  },
  {
   "cell_type": "code",
   "execution_count": 6,
   "id": "a63518e4-4c5e-4379-9051-b0e96da69915",
   "metadata": {},
   "outputs": [],
   "source": [
    "K, M = assemble_matrices(triangulation, alpha)"
   ]
  },
  {
   "cell_type": "code",
   "execution_count": 8,
   "id": "c54f2710-b1dc-44ab-99fb-0304d7a343de",
   "metadata": {},
   "outputs": [
    {
     "name": "stdout",
     "output_type": "stream",
     "text": [
      "-17.71059561021883\n",
      "-15.410436014695506\n",
      "1804.7876906783856\n",
      "-16865.280911174803\n",
      "128939.80750762363\n",
      "-904599.3998333768\n",
      "6089718.591110184\n",
      "-40054648.581746325\n",
      "259733915.7836581\n",
      "-1668307198.4802694\n",
      "10641713170.234516\n",
      "-67504543198.54646\n",
      "426117664029.41\n",
      "-2677261974758.097\n",
      "16740303755243.91\n",
      "-104129784402893.19\n",
      "643931901544979.2\n",
      "-3954995495171737.0\n",
      "2.4094826648697964e+16\n",
      "-1.4534228996274845e+17\n",
      "8.658914962742825e+17\n",
      "-5.076720641450403e+18\n",
      "2.9136216193048773e+19\n",
      "-1.6231183772482857e+20\n",
      "8.65066235270815e+20\n",
      "-4.288748731646121e+21\n",
      "1.8497377157589299e+22\n",
      "-5.423557132411943e+22\n",
      "-1.1222161621848257e+23\n",
      "4.004558005471708e+24\n",
      "-4.912377731040112e+25\n",
      "4.8223741162800336e+26\n",
      "-4.284574975883282e+27\n",
      "3.597000985495959e+28\n",
      "-2.9115839614396888e+29\n",
      "2.297706332169225e+30\n",
      "-1.7797961068444594e+31\n",
      "1.35917225774561e+32\n",
      "-1.0264294075977204e+33\n",
      "7.682151052712545e+33\n",
      "-5.707412633487895e+34\n",
      "4.214381901125718e+35\n",
      "-3.095874269734424e+36\n",
      "2.264215127849872e+37\n",
      "-1.6496915039376473e+38\n",
      "1.1979957142717827e+39\n",
      "-8.674695550995073e+39\n",
      "6.265402203970411e+40\n",
      "-4.515076129744104e+41\n",
      "3.2472017384183594e+42\n",
      "-2.3311635075272234e+43\n",
      "1.670836576358278e+44\n",
      "-1.1958066547087298e+45\n",
      "8.546984407269436e+45\n",
      "-6.101570402334312e+46\n",
      "4.351036018703993e+47\n",
      "-3.099604731333641e+48\n",
      "2.2060646298964588e+49\n",
      "-1.5687733581286142e+50\n",
      "1.1147067405185808e+51\n",
      "-7.914891183712546e+51\n",
      "5.616115827386926e+52\n",
      "-3.982489086013622e+53\n",
      "2.8224043705546234e+54\n",
      "-1.9991570702796752e+55\n",
      "1.41531476708941e+56\n",
      "-1.001501573273111e+57\n",
      "7.083624577451079e+57\n",
      "-5.008140252970429e+58\n",
      "3.5393641918740234e+59\n",
      "-2.500413042442026e+60\n",
      "1.765814672013302e+61\n",
      "-1.2466190994885304e+62\n",
      "8.798031544507616e+62\n",
      "-6.207368881930475e+63\n",
      "4.3783108719635393e+64\n",
      "-3.0873712718329536e+65\n",
      "2.176507368080951e+66\n",
      "-1.534001712827424e+67\n",
      "1.0809136698903473e+68\n",
      "-7.614832399727106e+68\n",
      "5.363376391113376e+69\n",
      "-3.7768429382977666e+70\n",
      "2.6591092217706133e+71\n",
      "-1.8718182423225033e+72\n",
      "1.3173914851085271e+73\n",
      "-9.270281776333897e+73\n",
      "6.522302967041395e+74\n",
      "-4.588194547731584e+75\n",
      "3.2271430500947235e+76\n",
      "-2.2695131893107894e+77\n",
      "1.5958340778944705e+78\n",
      "-1.1219812222490178e+79\n",
      "7.887301682257951e+79\n",
      "-5.543938399769908e+80\n",
      "3.896344819904873e+81\n",
      "-2.7380872611502485e+82\n",
      "1.9239326905356844e+83\n",
      "-1.3517203222723944e+84\n",
      "9.495980258298767e+84\n"
     ]
    }
   ],
   "source": [
    "# Step 5: Time-stepping loop (Forward Euler)\n",
    "M_inv = np.linalg.inv(M)\n",
    "for n in range(nt):\n",
    "    u_new = u - dt * np.dot(M_inv, np.dot(K, u))\n",
    "    u = u_new\n",
    "    print(u[0])"
   ]
  },
  {
   "cell_type": "code",
   "execution_count": 9,
   "id": "a0c1eb43-ce51-4833-8dbc-09ccc6c6a8a6",
   "metadata": {},
   "outputs": [
    {
     "data": {
      "text/plain": [
       "(2500,)"
      ]
     },
     "execution_count": 9,
     "metadata": {},
     "output_type": "execute_result"
    }
   ],
   "source": [
    "u.shape"
   ]
  },
  {
   "cell_type": "code",
   "execution_count": 10,
   "id": "8c910679-aa40-44d2-9bce-0367e99de542",
   "metadata": {},
   "outputs": [
    {
     "data": {
      "text/plain": [
       "array([ 9.49598026e+84,  6.05189848e+84, -1.52565326e+85, ...,\n",
       "       -4.13766219e+76,  8.85035545e+76, -1.12156528e+76])"
      ]
     },
     "execution_count": 10,
     "metadata": {},
     "output_type": "execute_result"
    }
   ],
   "source": [
    "u"
   ]
  },
  {
   "cell_type": "code",
   "execution_count": null,
   "id": "2492f6d2-877e-437d-a478-2920e6e3146a",
   "metadata": {},
   "outputs": [],
   "source": []
  },
  {
   "cell_type": "code",
   "execution_count": null,
   "id": "47453c1c-8992-4f4f-a50a-1ce955861f67",
   "metadata": {},
   "outputs": [],
   "source": []
  }
 ],
 "metadata": {
  "kernelspec": {
   "display_name": "Python 3 (ipykernel)",
   "language": "python",
   "name": "python3"
  },
  "language_info": {
   "codemirror_mode": {
    "name": "ipython",
    "version": 3
   },
   "file_extension": ".py",
   "mimetype": "text/x-python",
   "name": "python",
   "nbconvert_exporter": "python",
   "pygments_lexer": "ipython3",
   "version": "3.12.4"
  }
 },
 "nbformat": 4,
 "nbformat_minor": 5
}
