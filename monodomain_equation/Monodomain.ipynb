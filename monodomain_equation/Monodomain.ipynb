{
 "cells": [
  {
   "cell_type": "code",
   "execution_count": 4,
   "id": "0f86949f-d6a3-43f1-b9ad-0c7720ad26c3",
   "metadata": {},
   "outputs": [
    {
     "name": "stdout",
     "output_type": "stream",
     "text": [
      "cuda\n"
     ]
    }
   ],
   "source": [
    "import sys\n",
    "import os\n",
    "parent_dir = os.path.abspath(os.path.join(os.getcwd(), '..'))\n",
    "sys.path.append(parent_dir)\n",
    "\n",
    "import torch\n",
    "import numpy as np\n",
    "from assemble import Matrices3DSurface\n",
    "from preconditioner import Preconditioner\n",
    "from solver import ConjugateGradient\n",
    "from visualize import Visualization3DSurface\n",
    "from boundary import apply_dirichlet_boundary_conditions\n",
    "import time\n",
    "from ionic import ModifiedMS2v\n",
    "from mesh.triangulation import Triangulation\n",
    "from mesh.materialproperties import MaterialProperties\n",
    "from mesh.stimulus import Stimulus\n",
    "from tools import load_stimulus_region, dfmass, sigmaTens\n",
    "device = torch.device(\"cuda\" if torch.cuda.is_available() else \"cpu\")\n",
    "dtype = torch.float64\n",
    "print(device)\n",
    "\n",
    "\n",
    "dt = 0.01\n",
    "vg = 0.1\n",
    "diffusl = (1000 * 1000) * 0.175\n",
    "diffust = (1000 * 1000) * 0.04375\n",
    "tin = 0.15\n",
    "tout = 1.5\n",
    "topen = 105.0\n",
    "tclose = 185.0\n",
    "\n",
    "use_renumbering = True\n",
    "T = 2400\n",
    "nt = T // dt\n",
    "\n",
    "cfgstim1 = {'tstart': 0.0,\n",
    "            'nstim': 3,\n",
    "            'period': 800,\n",
    "            'duration': np.max([2.0, dt]),\n",
    "            'intensity': 1.0,\n",
    "            'name': 'S1'}\n"
   ]
  },
  {
   "cell_type": "code",
   "execution_count": 22,
   "id": "0b708f37-a1f1-4928-bbd7-2680b97b4de6",
   "metadata": {},
   "outputs": [
    {
     "data": {
      "text/plain": [
       "(175000.0, 43750.0)"
      ]
     },
     "execution_count": 22,
     "metadata": {},
     "output_type": "execute_result"
    }
   ],
   "source": [
    "diffusl, diffust"
   ]
  },
  {
   "cell_type": "code",
   "execution_count": 5,
   "id": "0323478d-7425-4228-b4b0-ca2fae8edad2",
   "metadata": {},
   "outputs": [
    {
     "name": "stdout",
     "output_type": "stream",
     "text": [
      "adding the element property sigma_l of type uniform\n",
      "adding the element property sigma_t of type uniform\n",
      "adding the nodal property tau_in of type uniform\n",
      "adding the nodal property tau_out of type uniform\n",
      "adding the nodal property tau_open of type uniform\n",
      "adding the nodal property tau_close of type uniform\n",
      "adding the nodal property u_gate of type uniform\n",
      "adding the nodal property u_crit of type uniform\n",
      "reading Nodes\n",
      "read 394613 nodes in 0.46 s.\n",
      "reading Elements\n",
      "read 780617 elements in 2.11 s.\n",
      "reading Fibers\n",
      "read 780617 Fibers in 0.71 s.\n",
      "total: 3.28 s.\n",
      "Associating a region ID to points\n",
      "done in 4.08 s\n"
     ]
    },
    {
     "data": {
      "text/plain": [
       "'\\ntau_in 0.15\\ntau_out 1.5\\ntau_open 105.0\\ntau_close 185.0\\nu_gate 0.1\\nu_crit 0.1\\n'"
      ]
     },
     "execution_count": 5,
     "metadata": {},
     "output_type": "execute_result"
    }
   ],
   "source": [
    "material = MaterialProperties()\n",
    "material.add_element_property('sigma_l', 'uniform', diffusl)\n",
    "material.add_element_property('sigma_t', 'uniform', diffust)\n",
    "material.add_nodal_property('tau_in', 'uniform', tin)\n",
    "material.add_nodal_property('tau_out', 'uniform', tout)\n",
    "material.add_nodal_property('tau_open', 'uniform', topen)\n",
    "material.add_nodal_property('tau_close', 'uniform', tclose)\n",
    "material.add_nodal_property('u_gate', 'uniform', vg)\n",
    "material.add_nodal_property('u_crit', 'uniform', vg)\n",
    "material.add_ud_function('mass', dfmass)\n",
    "material.add_ud_function('stiffness', sigmaTens)\n",
    "\n",
    "\n",
    "domain = Triangulation()\n",
    "domain.readMesh(\"/home/bzhou6/Projects/FinitePDE/data/Case_1\")\n",
    "# domain.exportCarpFormat(\"atrium\")\n",
    "\n",
    "# assign nodal properties\n",
    "ionic_model = ModifiedMS2v()\n",
    "nodal_properties = material.nodal_property_names()\n",
    "point_region_ids = domain.point_region_ids()\n",
    "npt = point_region_ids.shape[0]\n",
    "\n",
    "for npr in nodal_properties:\n",
    "    npr_type = material.nodal_property_type(npr)\n",
    "    attribute_value = ionic_model.get_attribute(npr)\n",
    "\n",
    "    if attribute_value is not None:\n",
    "        if npr_type == \"uniform\":\n",
    "            values = material.NodalProperty(npr, -1, -1)\n",
    "        else:\n",
    "            values = torch.full(size=(npt, 1), fill_value=attribute_value)\n",
    "            for point_id, region_id in enumerate(point_region_ids):\n",
    "                values[point_id] = material.NodalProperty(npr, point_id, region_id)\n",
    "        ionic_model.set_attribute(npr, values)"
   ]
  },
  {
   "cell_type": "code",
   "execution_count": 17,
   "id": "90963783-ea3a-474f-a49e-dad73b884ec7",
   "metadata": {},
   "outputs": [
    {
     "data": {
      "text/plain": [
       "(780617, 3)"
      ]
     },
     "execution_count": 17,
     "metadata": {},
     "output_type": "execute_result"
    }
   ],
   "source": [
    "fib = domain.Fibres()\n",
    "fib.shape"
   ]
  },
  {
   "cell_type": "code",
   "execution_count": 33,
   "id": "dca836f0-81ad-44a8-8060-48d02e1b8e98",
   "metadata": {},
   "outputs": [
    {
     "data": {
      "text/plain": [
       "(394613, 3)"
      ]
     },
     "execution_count": 33,
     "metadata": {},
     "output_type": "execute_result"
    }
   ],
   "source": [
    "domain.Pts().shape"
   ]
  },
  {
   "cell_type": "code",
   "execution_count": 37,
   "id": "65a82aff-3ed5-4747-8586-f1d99b816968",
   "metadata": {},
   "outputs": [
    {
     "data": {
      "text/plain": [
       "array([[     0,      1,      2,      3],\n",
       "       [     1,      3,      2,      3],\n",
       "       [     4,      5,      6,      4],\n",
       "       ...,\n",
       "       [215664, 394603, 216358,      5],\n",
       "       [394603, 216357, 216358,      5],\n",
       "       [293939, 293941, 293944,      4]], dtype=int32)"
      ]
     },
     "execution_count": 37,
     "metadata": {},
     "output_type": "execute_result"
    }
   ],
   "source": [
    "domain.Elems()['Trias']"
   ]
  },
  {
   "cell_type": "code",
   "execution_count": 20,
   "id": "882e41c0-80eb-47ca-8371-c13738654d35",
   "metadata": {},
   "outputs": [
    {
     "data": {
      "text/plain": [
       "{'v1': array([ 0.00163637, -0.00680932, -0.00038617]),\n",
       " 'v2': array([-0.00116806,  0.00268557,  0.00304068]),\n",
       " 'v3': array([-0.95973457, -0.22078717, -0.17367375]),\n",
       " 'meas': array([24398.51163918])}"
      ]
     },
     "execution_count": 20,
     "metadata": {},
     "output_type": "execute_result"
    }
   ],
   "source": [
    "domain.element_contravariant_basis('Trias', 0)"
   ]
  },
  {
   "cell_type": "code",
   "execution_count": 36,
   "id": "dd5990c2-b074-4797-8680-92ca4d6e5f1b",
   "metadata": {},
   "outputs": [
    {
     "data": {
      "text/plain": [
       "array([[-69444.046875  , -44598.31640625, -31379.47851562],\n",
       "       [-69434.046875  , -44750.6171875 , -31241.12304688],\n",
       "       [-69497.59375   , -44630.26953125, -31042.953125  ],\n",
       "       ...,\n",
       "       [-59683.4296875 , -51202.91796875, -11705.01757812],\n",
       "       [-68755.71875   , -38948.9765625 , -34955.2734375 ],\n",
       "       [-61361.57421875, -49669.08203125, -37493.65625   ]])"
      ]
     },
     "execution_count": 36,
     "metadata": {},
     "output_type": "execute_result"
    }
   ],
   "source": [
    "domain.Pts()"
   ]
  },
  {
   "cell_type": "code",
   "execution_count": 39,
   "id": "8e7d2cbc-2b36-4944-97ef-408e4411298a",
   "metadata": {},
   "outputs": [],
   "source": [
    "vertices = torch.from_numpy(domain.Pts())\n",
    "triangles = torch.from_numpy(domain.Elems()['Trias'][:, :-1])"
   ]
  },
  {
   "cell_type": "code",
   "execution_count": 61,
   "id": "ef26f963-4cd1-4670-98fe-f53513bc458c",
   "metadata": {},
   "outputs": [],
   "source": [
    "import pyvista as pv\n",
    "from pathlib import Path\n",
    "class Visualization3D:\n",
    "    def __init__(self, vertices, triangles):\n",
    "        self.vertices = vertices\n",
    "        self.triangles = triangles\n",
    "        self.n_triangles = triangles.shape[0]\n",
    "\n",
    "    def save_frame(self, color_values, frame_path):\n",
    "        # Cells array indicating triangles (3 vertices per triangle)\n",
    "        cells = np.hstack((np.full((self.n_triangles, 1), 3, dtype=int), self.triangles)).flatten().astype(int)\n",
    "        # Cell type for triangles\n",
    "        cell_type = np.full(self.n_triangles, 5, dtype=int)\n",
    "        # Create the unstructured grid\n",
    "        grid = pv.UnstructuredGrid(cells, cell_type, self.vertices.numpy())\n",
    "        grid.point_data[\"colors\"] = color_values\n",
    "\n",
    "        # Save the grid to the specified file path\n",
    "        file_path = Path(frame_path)\n",
    "        file_path.parent.mkdir(parents=True, exist_ok=True)\n",
    "        grid.save(frame_path)"
   ]
  },
  {
   "cell_type": "code",
   "execution_count": 62,
   "id": "b69d9b0b-17a4-4e05-853c-3af29260cb86",
   "metadata": {},
   "outputs": [],
   "source": [
    "Visualization3D(vertices, triangles).save_frame(np.random.rand(len(vertices)), \"1.vtk\")"
   ]
  },
  {
   "cell_type": "code",
   "execution_count": null,
   "id": "0d646dc9-c491-493a-a99e-0ac222d1eeea",
   "metadata": {},
   "outputs": [],
   "source": []
  }
 ],
 "metadata": {
  "kernelspec": {
   "display_name": "Python 3 (ipykernel)",
   "language": "python",
   "name": "python3"
  },
  "language_info": {
   "codemirror_mode": {
    "name": "ipython",
    "version": 3
   },
   "file_extension": ".py",
   "mimetype": "text/x-python",
   "name": "python",
   "nbconvert_exporter": "python",
   "pygments_lexer": "ipython3",
   "version": "3.12.2"
  }
 },
 "nbformat": 4,
 "nbformat_minor": 5
}
