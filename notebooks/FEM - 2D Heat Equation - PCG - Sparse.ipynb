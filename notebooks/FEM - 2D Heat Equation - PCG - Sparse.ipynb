{
 "cells": [
  {
   "cell_type": "code",
   "execution_count": 1,
   "id": "ae1a16ce-4cf4-4d68-8948-4416c45a7b86",
   "metadata": {},
   "outputs": [],
   "source": [
    "import torch\n",
    "import numpy as np\n",
    "import matplotlib.pyplot as plt\n",
    "from matplotlib import tri\n",
    "import matplotlib.animation as animation\n",
    "from matplotlib.animation import FuncAnimation\n",
    "from pprint import pprint"
   ]
  },
  {
   "cell_type": "code",
   "execution_count": 2,
   "id": "a179c476-cf12-4ab6-8ecf-5018b3dd37c2",
   "metadata": {},
   "outputs": [
    {
     "name": "stdout",
     "output_type": "stream",
     "text": [
      "1.3552071797447998\n",
      "cpu\n"
     ]
    }
   ],
   "source": [
    "# Step 1: Define problem parameters\n",
    "L = 1.0  # Length of domain in x and y directions\n",
    "Nx = 100\n",
    "Ny = 100   # Number of grid points in x and y\n",
    "T0 = 100\n",
    "alpha = 0.1  # Thermal diffusivity\n",
    "h = 0.5206164\n",
    "print(h ** 2 / (2 * alpha))\n",
    "dt = 0.00125  # Time step size\n",
    "nt = 1000  # Number of time steps\n",
    "\n",
    "device = torch.device(\"cuda\" if torch.cuda.is_available() else \"cpu\")\n",
    "dtype = torch.float64\n",
    "print(device)"
   ]
  },
  {
   "cell_type": "code",
   "execution_count": 3,
   "id": "b0ede4b3-abf5-4f74-b3e2-0208cf8a9161",
   "metadata": {},
   "outputs": [],
   "source": [
    "def apply_boundary_condition(A, b):\n",
    "    pass\n",
    "\n",
    "def create_preconditioner(A):\n",
    "    sparse_indices = A._indices()\n",
    "    sparse_values = A._values()\n",
    "\n",
    "    PC = torch.zeros(A.shape[0], device=device, dtype=dtype)\n",
    "    for i in range(sparse_indices.shape[1]):\n",
    "        row, col = sparse_indices[:, i]\n",
    "        if row == col:  # Check if it's a diagonal element\n",
    "            PC[row] = sparse_values[i] \n",
    "    \n",
    "    return PC\n",
    "\n",
    "\n",
    "def apply_preconditioner(PC, r, tol=1e-6, max_iter=10):\n",
    "    z = (1 / PC) * r\n",
    "    # z = torch.linalg.solve(PC, r)\n",
    "    return z\n",
    "\n"
   ]
  },
  {
   "cell_type": "code",
   "execution_count": 4,
   "id": "26e9687d-83e7-4672-afb3-3c5ee0b62daf",
   "metadata": {},
   "outputs": [
    {
     "name": "stdout",
     "output_type": "stream",
     "text": [
      "10000\n",
      "10000\n",
      "19602\n"
     ]
    },
    {
     "data": {
      "image/png": "[encoded data removed]",
      "text/plain": [
       "<Figure size 640x480 with 1 Axes>"
      ]
     },
     "metadata": {},
     "output_type": "display_data"
    }
   ],
   "source": [
    "# Create the grid\n",
    "x = np.linspace(0, L, Nx)\n",
    "y = np.linspace(0, L, Ny)\n",
    "X, Y = np.meshgrid(x, y)\n",
    "\n",
    "# Y[1:Nx-1, 1: Ny-1] += np.random.rand(Nx-2, Ny-2) * 0.5\n",
    "# X[1:Nx-1, 1: Ny-1] -= np.random.rand(Nx-2, Ny-2) * 0.5\n",
    "\n",
    "# Create the original triangulation\n",
    "triangulation = tri.Triangulation(X.flatten(), Y.flatten())\n",
    "\n",
    "print(len(triangulation.x))\n",
    "print(len(triangulation.y))\n",
    "print(len(triangulation.triangles))\n",
    "\n",
    "plt.figure()\n",
    "plt.triplot(triangulation, 'go--')  # Plot the triangulation lines\n",
    "plt.plot(X, Y, 'ro')  # Plot the original points\n",
    "plt.title('Triangulation Plot')\n",
    "plt.xlabel('X-axis')\n",
    "plt.ylabel('Y-axis')\n",
    "plt.grid()\n",
    "plt.show()"
   ]
  },
  {
   "cell_type": "code",
   "execution_count": 5,
   "id": "84ac0478-ca15-437f-a3eb-9cb92aa3b294",
   "metadata": {},
   "outputs": [],
   "source": [
    "# Step 3: Initial condition\n",
    "u0 = torch.zeros((Nx * Ny,)).to(device=device, dtype=dtype)\n",
    "u0[20 * Nx: 20 * Nx + Ny] = T0"
   ]
  },
  {
   "cell_type": "code",
   "execution_count": 9,
   "id": "1330091c-7fb0-4d2f-b1d9-7700aeff36bc",
   "metadata": {},
   "outputs": [
    {
     "name": "stdout",
     "output_type": "stream",
     "text": [
      "tensor([[ 0.1000, -0.0500,  0.0000,  ...,  0.0000,  0.0000,  0.0000],\n",
      "        [-0.0500,  0.2000, -0.0500,  ...,  0.0000,  0.0000,  0.0000],\n",
      "        [ 0.0000, -0.0500,  0.2000,  ...,  0.0000,  0.0000,  0.0000],\n",
      "        ...,\n",
      "        [ 0.0000,  0.0000,  0.0000,  ...,  0.2000, -0.0500,  0.0000],\n",
      "        [ 0.0000,  0.0000,  0.0000,  ..., -0.0500,  0.2000, -0.0500],\n",
      "        [ 0.0000,  0.0000,  0.0000,  ...,  0.0000, -0.0500,  0.1000]],\n",
      "       dtype=torch.float64)\n"
     ]
    }
   ],
   "source": [
    "def shape_function_gradients():\n",
    "    # Gradients of shape functions in the reference element (master triangle)\n",
    "    return torch.tensor([[-1, -1], \n",
    "                         [1, 0], \n",
    "                         [0, 1]], dtype=dtype)\n",
    "\n",
    "def jacobian(coords):\n",
    "    # Compute the Jacobian matrix for the transformation from reference to physical element\n",
    "    dN_dxi = shape_function_gradients()  # Gradients in reference space\n",
    "    J = coords.T @ dN_dxi  # Jacobian matrix: 2x2 for the triangle\n",
    "    \n",
    "    return J\n",
    "\n",
    "def assemble_matrices(triangulation, alpha):\n",
    "    npoints = len(triangulation.x)  # Total number of points in the mesh\n",
    "    \n",
    "    # Lists to store the indices and values of non-zero elements for K and M\n",
    "    rows, cols, K_vals, M_vals = [], [], [], []\n",
    "    \n",
    "    for element in triangulation.triangles:\n",
    "        # Get the coordinates of the three vertices of the triangle\n",
    "        vertices = element[:]\n",
    "        coords = torch.tensor([[x, y] for x, y in zip(triangulation.x[vertices], triangulation.y[vertices])], dtype=dtype)\n",
    "        \n",
    "        # Calculate area of the triangle using the determinant method\n",
    "        area = 0.5 * torch.linalg.det(torch.tensor([\n",
    "            [1, coords[0, 0], coords[0, 1]],\n",
    "            [1, coords[1, 0], coords[1, 1]],\n",
    "            [1, coords[2, 0], coords[2, 1]]\n",
    "        ], dtype=dtype))\n",
    "        \n",
    "        # raise Exception(area.numpy())\n",
    "        #################################     Mass matrix    ############################################################\n",
    "        # Mass matrix for a triangular element\n",
    "        Me = (area / 12) * torch.tensor([[2, 1, 1],\n",
    "                                         [1, 2, 1],\n",
    "                                         [1, 1, 2]])  # Consistent mass matrix for triangular elements\n",
    "        # print(Me)\n",
    "        \n",
    "        ##################################  Stiffness matrix    ##########################################################\n",
    "        # Ke_test = (alpha / (4 * area)) * torch.tensor([[2, -1, -1],\n",
    "        #                                           [-1, 2, -1],\n",
    "        #                                           [-1, -1, 2]])\n",
    "        \n",
    "        J = jacobian(coords)\n",
    "        det_J = torch.linalg.det(J)   # determinant of the Jacobian matrix (related to area)\n",
    "        inv_J = torch.linalg.inv(J)\n",
    "        # raise Exception(J, inv_J)\n",
    "        # Compute the gradients of the shape functions in physical space (using the Jacobian inverse)\n",
    "        dN_dxi = shape_function_gradients()  # 3x2\n",
    "        dN_dxy = (dN_dxi @ inv_J).T  # 2x3 = 2x2 @ 2x3 dN_dxy = (dN_dxi @ inv_J).T\n",
    "        # raise Exception(dN_dxy)\n",
    "        # raise Exception(dN_dxy @ coords)\n",
    "        Ke  = 0.5 * alpha * det_J * dN_dxy.T @ dN_dxy\n",
    "        # raise Exception(dN_dxy)\n",
    "        # Ke = torch.zeros((3, 3), dtype=torch.float64)\n",
    "        # for i in range(3):\n",
    "        #     for j in range(3):\n",
    "        #         Ke[i, j] = alpha * det_J * (dN_dxy[0, i] * dN_dxy[0, j] + dN_dxy[1, i] * dN_dxy[1, j]) \n",
    "        # raise Exception(Ke_test, '\\n', Ke)\n",
    "        ################################################################################################################\n",
    "        # Add local contributions to the global matrices\n",
    "        for i in range(3):\n",
    "            for j in range(3):\n",
    "                # Store K and M values in sparse form (row, col, value)\n",
    "                rows.append(vertices[i])\n",
    "                cols.append(vertices[j])\n",
    "                K_vals.append(Ke[i, j])\n",
    "                M_vals.append(Me[i, j])\n",
    "    \n",
    "    # Create sparse tensors from the accumulated lists\n",
    "    K = torch.sparse_coo_tensor(\n",
    "        indices=[rows, cols],\n",
    "        values=K_vals,\n",
    "        size=(npoints, npoints)\n",
    "    )\n",
    "    \n",
    "    M = torch.sparse_coo_tensor(\n",
    "        indices=[rows, cols],\n",
    "        values=M_vals,\n",
    "        size=(npoints, npoints)\n",
    "    )\n",
    "    \n",
    "    return K, M\n",
    "\n",
    "K, M = assemble_matrices(triangulation, alpha)\n",
    "K = K.to(device=device, dtype=dtype)\n",
    "M = M.to(device=device, dtype=dtype)\n",
    "\n",
    "print(K.to_dense())"
   ]
  },
  {
   "cell_type": "code",
   "execution_count": 8,
   "id": "c54f2710-b1dc-44ab-99fb-0304d7a343de",
   "metadata": {},
   "outputs": [],
   "source": [
    "U = torch.zeros((nt, Nx, Ny)).to(device=device, dtype=dtype)\n",
    "U[0,:,:] = u0.reshape((Nx, Ny))\n",
    "\n",
    "u = u0\n",
    "M_dt = M * (1 / dt)\n",
    "A = M_dt + K"
   ]
  },
  {
   "cell_type": "code",
   "execution_count": null,
   "id": "85d2494b-f911-4323-bf5d-5bed0c11dd0e",
   "metadata": {},
   "outputs": [],
   "source": [
    "dirichlet_boundary_nodes = torch.arange(20 * Nx, 20 * Nx + Ny, device=device)\n",
    "boundary_values = torch.ones_like(dirichlet_boundary_nodes, device=device, dtype=dtype) * T0\n",
    "\n",
    "sparse_indices = A._indices() # apply boundary condition\n",
    "sparse_values = A._values()\n",
    "\n",
    "mask = ~torch.isin(sparse_indices[0], dirichlet_boundary_nodes) \n",
    "new_indices = sparse_indices[:, mask]\n",
    "new_values = sparse_values[mask]\n",
    "\n",
    "identity_indices = torch.stack([dirichlet_boundary_nodes, dirichlet_boundary_nodes], dim=0).to(device=device, dtype=dtype)  # Diagonal indices\n",
    "identity_values = torch.ones_like(dirichlet_boundary_nodes)  # Diagonal values are set to 1.0\n",
    "\n",
    "final_indices = torch.cat([new_indices, identity_indices], dim=1)\n",
    "final_values = torch.cat([new_values, identity_values])\n",
    "A = torch.sparse_coo_tensor(final_indices, final_values, A.shape)\n",
    "\n",
    "PC = create_preconditioner(A)"
   ]
  },
  {
   "cell_type": "code",
   "execution_count": null,
   "id": "8dc86646-18cd-42ea-924c-de5a9461cf50",
   "metadata": {},
   "outputs": [],
   "source": []
  },
  {
   "cell_type": "code",
   "execution_count": null,
   "id": "19a44afb-27b0-4c7f-922f-20e14ecac464",
   "metadata": {},
   "outputs": [],
   "source": [
    "def conjugate_gradient(A, x, b, M, a_tol=1e-6, r_tol=1e-6, max_iter=100):\n",
    "    \n",
    "    # x = torch.zeros_like(b, device=device, dtype=dtype)  # Initial guess (zero vector)\n",
    "    r = b - A @ x           # Initial residual\n",
    "    z = apply_preconditioner(M, r)  # Preconditioned residual\n",
    "    p = z                    # Initial search direction\n",
    "    \n",
    "    r_norm = torch.linalg.vector_norm(r)\n",
    "    \n",
    "    for i in range(max_iter):\n",
    "        Ap = A @ p         # Matrix-vector product A*p\n",
    "        \n",
    "        rz_scala = torch.dot(r, z)\n",
    "        alpha = rz_scala / torch.dot(p, Ap)  # Step size\n",
    "        \n",
    "        # Update the solution\n",
    "        x = x + alpha * p\n",
    "        \n",
    "        # Update residual\n",
    "        r_new = r - alpha * Ap\n",
    "        \n",
    "        r_new_norm = torch.linalg.vector_norm(r_new)\n",
    "        # print(r_new_norm, r_norm, r_new_norm / r_norm)\n",
    "        \n",
    "        if r_new_norm < a_tol or (r_new_norm / r_norm) < r_tol:\n",
    "            print(f\"Converged in {i} iterations\", r_new_norm, r_norm)\n",
    "            break\n",
    "        \n",
    "        # Apply the preconditioner iteratively\n",
    "        z_new = apply_preconditioner(M, r_new)\n",
    "        \n",
    "        # Compute beta for the next search direction\n",
    "        beta = torch.dot(r_new, z_new) / rz_scala\n",
    "        \n",
    "        # Update the search direction\n",
    "        p = z_new + beta * p\n",
    "        \n",
    "        # Update residuals and preconditioned residuals for next iteration\n",
    "        r = r_new\n",
    "        z = z_new\n",
    "        \n",
    "    else:\n",
    "        print(f\"Did not converge in {i} iterations\", r_norm, r_new_norm)\n",
    "    return x"
   ]
  },
  {
   "cell_type": "code",
   "execution_count": null,
   "id": "59282d9e-c0b5-4ed5-bc68-44f3c454f858",
   "metadata": {
    "scrolled": true
   },
   "outputs": [],
   "source": [
    "# LU, pivots = torch.lu(A.to_dense())\n",
    "\n",
    "for n in range(1, nt):\n",
    "    print(f\"{n}\", end=\" \")\n",
    "    b = M_dt @ u\n",
    "    \n",
    "    b[dirichlet_boundary_nodes] = boundary_values # apply boundary condition\n",
    "    u = conjugate_gradient(A, u, b, PC, a_tol=1e-5, r_tol=1e-5, max_iter=100)\n",
    "    # u = torch.lu_solve(b.unsqueeze(1), LU, pivots).squeeze()\n",
    "    \n",
    "    U[n, :, :] = u.reshape((Nx, Ny))"
   ]
  },
  {
   "cell_type": "code",
   "execution_count": null,
   "id": "a90cc650",
   "metadata": {},
   "outputs": [],
   "source": [
    "def plotheatmap(tr, u_k , k):\n",
    "    plt.clf()\n",
    "\n",
    "    plt.title(f\"Temperature at t = {k*dt:.3f} unit time\")\n",
    "    plt.xlabel(\"x\")\n",
    "    plt.ylabel(\"y\")\n",
    "\n",
    "    # This is to plot u_k (u at time-step k)\n",
    "    plt.tripcolor(tr, u_k.flatten(), cmap=plt.cm.jet, vmin=0, vmax=100, shading='gouraud')\n",
    "    plt.colorbar()"
   ]
  },
  {
   "cell_type": "code",
   "execution_count": null,
   "id": "24b72179-7c0c-4c85-813a-587447349c0f",
   "metadata": {},
   "outputs": [],
   "source": [
    "plotheatmap(triangulation, U[1, :, :], 1)"
   ]
  },
  {
   "cell_type": "code",
   "execution_count": null,
   "id": "c9d5c858",
   "metadata": {},
   "outputs": [],
   "source": [
    "U = U.cpu()\n",
    "def animate(k):\n",
    "    plotheatmap(triangulation, U[k], k)"
   ]
  },
  {
   "cell_type": "code",
   "execution_count": null,
   "id": "9ab491c8",
   "metadata": {},
   "outputs": [],
   "source": [
    "anim = animation.FuncAnimation(plt.figure(), animate, interval=1, frames=nt, repeat=False)\n",
    "anim.save(\"FEM - 2D Heat Equation - PCG - Sparse.gif\")"
   ]
  },
  {
   "cell_type": "code",
   "execution_count": null,
   "id": "984ebd3d-0682-454f-b476-b104a9b16019",
   "metadata": {},
   "outputs": [],
   "source": []
  }
 ],
 "metadata": {
  "kernelspec": {
   "display_name": "Python 3 (ipykernel)",
   "language": "python",
   "name": "python3"
  },
  "language_info": {
   "codemirror_mode": {
    "name": "ipython",
    "version": 3
   },
   "file_extension": ".py",
   "mimetype": "text/x-python",
   "name": "python",
   "nbconvert_exporter": "python",
   "pygments_lexer": "ipython3",
   "version": "3.12.4"
  }
 },
 "nbformat": 4,
 "nbformat_minor": 5
}
