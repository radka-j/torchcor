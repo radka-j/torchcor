{
 "cells": [
  {
   "cell_type": "code",
   "execution_count": 1,
   "id": "9b809dee-7499-4644-92df-fe4468aea96e",
   "metadata": {},
   "outputs": [],
   "source": [
    "import torch\n",
    "\n",
    "def pcg(A, b, M_inv=None, x0=None, tol=1e-8, max_iter=1000):\n",
    "    \"\"\"\n",
    "    Preconditioned Conjugate Gradient (PCG) solver.\n",
    "\n",
    "    Args:\n",
    "        A (callable): A function that computes the matrix-vector product A(x).\n",
    "        b (torch.Tensor): The right-hand side vector.\n",
    "        M_inv (callable, optional): Preconditioner. A function that computes M^{-1}(x). \n",
    "                                    If None, no preconditioner is used.\n",
    "        x0 (torch.Tensor, optional): Initial guess for the solution. If None, a zero vector is used.\n",
    "        tol (float): Tolerance for convergence based on residual.\n",
    "        max_iter (int): Maximum number of iterations.\n",
    "    \n",
    "    Returns:\n",
    "        x (torch.Tensor): Approximate solution to A x = b.\n",
    "    \"\"\"\n",
    "    \n",
    "    if x0 is None:\n",
    "        x0 = torch.zeros_like(b)\n",
    "    \n",
    "    if M_inv is None:\n",
    "        # If no preconditioner is provided, use identity (i.e., M_inv = I)\n",
    "        M_inv = lambda x: x\n",
    "    \n",
    "    # Initializations\n",
    "    x = x0\n",
    "    r = b - A(x)  # Initial residual\n",
    "    z = M_inv(r)  # Apply preconditioner\n",
    "    p = z.clone() # Search direction\n",
    "    rsold = torch.dot(r, z)  # Inner product of r and preconditioned r (z)\n",
    "\n",
    "    for i in range(max_iter):\n",
    "        Ap = A(p)  # Compute A*p\n",
    "        alpha = rsold / torch.dot(p, Ap)  # Step size\n",
    "        \n",
    "        # Update the solution\n",
    "        x = x + alpha * p\n",
    "        \n",
    "        # Update residual\n",
    "        r = r - alpha * Ap\n",
    "        \n",
    "        # Check for convergence\n",
    "        if torch.norm(r) < tol:\n",
    "            print(f\"Converged in {i+1} iterations.\")\n",
    "            break\n",
    "        \n",
    "        # Apply preconditioner to the new residual\n",
    "        z = M_inv(r)\n",
    "        \n",
    "        # Compute new direction coefficient\n",
    "        rsnew = torch.dot(r, z)\n",
    "        beta = rsnew / rsold\n",
    "        \n",
    "        # Update search direction\n",
    "        p = z + beta * p\n",
    "        \n",
    "        rsold = rsnew\n",
    "\n",
    "    return x"
   ]
  },
  {
   "cell_type": "code",
   "execution_count": 3,
   "id": "36c6a59c-d175-4b71-be93-77b17582e760",
   "metadata": {},
   "outputs": [
    {
     "name": "stdout",
     "output_type": "stream",
     "text": [
      "Converged in 2 iterations.\n",
      "Solution x: tensor([0.0909, 0.6364])\n"
     ]
    }
   ],
   "source": [
    "\n",
    "# Example Usage\n",
    "if __name__ == \"__main__\":\n",
    "    # Define the matrix A as a function that computes A @ x\n",
    "    def A(x):\n",
    "        A_matrix = torch.tensor([[4.0, 1.0], [1.0, 3.0]])\n",
    "        return A_matrix @ x\n",
    "\n",
    "    # Right-hand side vector b\n",
    "    b = torch.tensor([1.0, 2.0])\n",
    "    \n",
    "    # Preconditioner: For simplicity, using Jacobi (diagonal elements of A)\n",
    "    def M_inv(x):\n",
    "        M_diag = torch.tensor([4.0, 3.0])  # Diagonal of A\n",
    "        return x / M_diag\n",
    "    \n",
    "    # Initial guess (optional)\n",
    "    x0 = torch.tensor([2.0, 1.0])\n",
    "    \n",
    "    # Solve A @ x = b using Preconditioned CG\n",
    "    x_solution = pcg(A, b, M_inv=None, x0=None, tol=1e-8, max_iter=1000)\n",
    "    \n",
    "    print(\"Solution x:\", x_solution)"
   ]
  },
  {
   "cell_type": "code",
   "execution_count": null,
   "id": "3f02124a-5527-440c-bc37-504b013c198d",
   "metadata": {},
   "outputs": [],
   "source": []
  },
  {
   "cell_type": "code",
   "execution_count": null,
   "id": "756999b8-009c-4fb6-93aa-292b3faf69b0",
   "metadata": {},
   "outputs": [],
   "source": []
  }
 ],
 "metadata": {
  "kernelspec": {
   "display_name": "Python 3 (ipykernel)",
   "language": "python",
   "name": "python3"
  },
  "language_info": {
   "codemirror_mode": {
    "name": "ipython",
    "version": 3
   },
   "file_extension": ".py",
   "mimetype": "text/x-python",
   "name": "python",
   "nbconvert_exporter": "python",
   "pygments_lexer": "ipython3",
   "version": "3.12.2"
  }
 },
 "nbformat": 4,
 "nbformat_minor": 5
}
