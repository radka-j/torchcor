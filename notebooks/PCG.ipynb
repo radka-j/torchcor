{
 "cells": [
  {
   "cell_type": "code",
   "execution_count": 5,
   "id": "9b809dee-7499-4644-92df-fe4468aea96e",
   "metadata": {},
   "outputs": [
    {
     "name": "stdout",
     "output_type": "stream",
     "text": [
      "Solution: tensor([ 7.7344e-01,  4.3687e+00,  6.9564e+00, -2.0197e+01, -1.5900e+01,\n",
      "        -1.2269e+00, -6.9439e-01, -1.7931e-02, -1.8110e+01, -7.2649e+00,\n",
      "         6.1214e-01, -8.4489e-01,  5.9477e+00, -8.8599e+00,  8.4666e-01,\n",
      "        -2.6092e+01,  2.0729e+01, -7.9087e+00, -3.8577e+00, -1.4499e+01,\n",
      "        -1.4657e+01, -1.3788e+01, -1.3956e+01, -2.6199e+01, -7.2052e+00,\n",
      "        -3.5897e+00, -1.3182e+01,  1.2401e+00, -2.0529e+00,  2.6556e+01,\n",
      "         1.2634e+01, -1.8660e+00,  1.5714e+01,  1.2464e+00,  6.1699e-01,\n",
      "         9.0474e+00,  1.8609e+01, -7.6115e+00,  9.2485e+00, -1.1184e+01,\n",
      "         2.4532e+00,  1.4679e+01,  1.6107e+01, -8.3286e+00,  1.8670e+00,\n",
      "        -1.5432e+01,  4.3211e+00, -4.2589e+00,  1.2108e+01, -2.6069e+01,\n",
      "         1.0527e+01,  3.1457e+01, -9.6584e-01,  5.1985e+00, -6.6098e+00,\n",
      "        -2.2560e+01,  7.8750e+00,  9.7475e+00, -1.7390e+01, -1.7717e+00,\n",
      "        -1.2219e+01, -1.0057e+01,  7.5301e+00,  4.8581e+00,  3.5889e-01,\n",
      "         1.0312e+01,  8.2844e+00, -4.6939e-01, -1.4476e+01,  9.0537e-01,\n",
      "        -1.5104e+01,  4.9261e+00, -1.2405e+01,  1.0519e+01, -1.0779e+01,\n",
      "         1.5537e+01, -9.1757e+00,  3.0429e+00,  2.3760e+00, -7.5388e+00,\n",
      "         3.9911e+00, -6.2748e-01, -2.4897e+01, -1.0831e+01, -1.4873e+01,\n",
      "        -7.9606e+00,  9.2635e+00, -9.1801e+00, -1.3987e+00, -5.5425e+00,\n",
      "        -5.0586e+00,  1.7412e+01,  9.2969e+00,  7.3302e+00,  5.5144e+00,\n",
      "         1.7647e+01, -2.1365e+01, -7.9722e+00, -3.0137e+00, -1.9428e+00])\n"
     ]
    }
   ],
   "source": [
    "import torch\n",
    "\n",
    "def apply_preconditioner(M, r, tol=1e-6, max_iter=10):\n",
    "    z = torch.zeros_like(r)  # Initial guess for z\n",
    "    for _ in range(max_iter):\n",
    "        # Jacobi preconditioner: Solve Mz = r approximately\n",
    "        z_new = r / torch.diag(M)  # Jacobi step\n",
    "        if torch.norm(z_new - z) < tol:\n",
    "            break\n",
    "        z = z_new\n",
    "    return z\n",
    "\n",
    "def conjugate_gradient(A, b, M, tol=1e-6, max_iter=100):\n",
    "    \n",
    "    x = torch.zeros_like(b)  # Initial guess (zero vector)\n",
    "    r = b - A @ x            # Initial residual\n",
    "    z = apply_preconditioner(M, r)  # Preconditioned residual\n",
    "    p = z                    # Initial search direction\n",
    "\n",
    "    for i in range(max_iter):\n",
    "        Ap = A @ p           # Matrix-vector product A*p\n",
    "        alpha = torch.dot(r, z) / torch.dot(p, Ap)  # Step size\n",
    "        \n",
    "        # Update the solution\n",
    "        x = x + alpha * p\n",
    "        \n",
    "        # Update residual\n",
    "        r_new = r - alpha * Ap\n",
    "        \n",
    "        # Check for convergence\n",
    "        if torch.norm(r_new) < tol:\n",
    "            print(f\"Converged in {i} iterations\")\n",
    "            break\n",
    "        \n",
    "        # Apply the preconditioner iteratively\n",
    "        z_new = apply_preconditioner(M, r_new)\n",
    "        \n",
    "        # Compute beta for next search direction\n",
    "        beta = torch.dot(r_new, z_new) / torch.dot(r, z)\n",
    "        \n",
    "        # Update the search direction\n",
    "        p = z_new + beta * p\n",
    "        \n",
    "        # Update residuals and preconditioned residuals for next iteration\n",
    "        r = r_new\n",
    "        z = z_new\n",
    "        \n",
    "    return x\n",
    "\n",
    "# Example usage\n",
    "\n",
    "# Define problem: A*x = b\n",
    "N = 100\n",
    "A = torch.randn(N, N)\n",
    "A = A @ A.T  # Ensure A is symmetric positive definite\n",
    "b = torch.randn(N)\n",
    "\n",
    "# Define a preconditioner (Jacobi in this case, i.e., diagonal of A)\n",
    "M = torch.diag(torch.diag(A))\n",
    "\n",
    "# Solve using CG with an iterative preconditioner\n",
    "x_approx = conjugate_gradient(A, b, M)\n",
    "print(f\"Solution: {x_approx}\")\n"
   ]
  },
  {
   "cell_type": "code",
   "execution_count": null,
   "id": "3f02124a-5527-440c-bc37-504b013c198d",
   "metadata": {},
   "outputs": [],
   "source": []
  },
  {
   "cell_type": "code",
   "execution_count": null,
   "id": "756999b8-009c-4fb6-93aa-292b3faf69b0",
   "metadata": {},
   "outputs": [],
   "source": []
  },
  {
   "cell_type": "code",
   "execution_count": null,
   "id": "18f2804c-5267-4bc3-8878-2f12b8bfd69f",
   "metadata": {},
   "outputs": [],
   "source": []
  }
 ],
 "metadata": {
  "kernelspec": {
   "display_name": "Python 3 (ipykernel)",
   "language": "python",
   "name": "python3"
  },
  "language_info": {
   "codemirror_mode": {
    "name": "ipython",
    "version": 3
   },
   "file_extension": ".py",
   "mimetype": "text/x-python",
   "name": "python",
   "nbconvert_exporter": "python",
   "pygments_lexer": "ipython3",
   "version": "3.12.4"
  }
 },
 "nbformat": 4,
 "nbformat_minor": 5
}
