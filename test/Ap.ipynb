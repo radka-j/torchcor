{
 "cells": [
  {
   "cell_type": "code",
   "execution_count": 1,
   "metadata": {},
   "outputs": [
    {
     "ename": "ModuleNotFoundError",
     "evalue": "No module named 'tensorflow'",
     "output_type": "error",
     "traceback": [
      "\u001b[0;31m---------------------------------------------------------------------------\u001b[0m",
      "\u001b[0;31mModuleNotFoundError\u001b[0m                       Traceback (most recent call last)",
      "Cell \u001b[0;32mIn[1], line 4\u001b[0m\n\u001b[1;32m      2\u001b[0m \u001b[38;5;28;01mimport\u001b[39;00m \u001b[38;5;21;01mnumpy\u001b[39;00m \u001b[38;5;28;01mas\u001b[39;00m \u001b[38;5;21;01mnp\u001b[39;00m\n\u001b[1;32m      3\u001b[0m \u001b[38;5;28;01mimport\u001b[39;00m \u001b[38;5;21;01mtorch\u001b[39;00m \n\u001b[0;32m----> 4\u001b[0m \u001b[38;5;28;01mimport\u001b[39;00m \u001b[38;5;21;01mtensorflow\u001b[39;00m \u001b[38;5;28;01mas\u001b[39;00m \u001b[38;5;21;01mtf\u001b[39;00m\n\u001b[1;32m      6\u001b[0m \u001b[38;5;66;03m# Load the sparse matrix from the .npz file\u001b[39;00m\n\u001b[1;32m      7\u001b[0m A_sparse_scipy \u001b[38;5;241m=\u001b[39m sp\u001b[38;5;241m.\u001b[39mload_npz(\u001b[38;5;124m'\u001b[39m\u001b[38;5;124mA_sparse_scipy.npz\u001b[39m\u001b[38;5;124m'\u001b[39m)\n",
      "\u001b[0;31mModuleNotFoundError\u001b[0m: No module named 'tensorflow'"
     ]
    }
   ],
   "source": [
    "import scipy.sparse as sp\n",
    "import numpy as np\n",
    "import torch \n",
    "import tensorflow as tf\n",
    "\n",
    "# Load the sparse matrix from the .npz file\n",
    "A_sparse_scipy = sp.load_npz('A_sparse_scipy.npz')\n",
    "p_dense_numpy = np.load('A_numpy.npy')"
   ]
  },
  {
   "cell_type": "code",
   "execution_count": null,
   "metadata": {},
   "outputs": [],
   "source": [
    "A_sparse_scipy = A_sparse_scipy.tocoo()\n",
    "\n",
    "# Extract row, column, and data arrays from the SciPy sparse matrix\n",
    "row = torch.from_numpy(A_sparse_scipy.row).long()\n",
    "col = torch.from_numpy(A_sparse_scipy.col).long()\n",
    "values = torch.from_numpy(A_sparse_scipy.data)\n",
    "\n",
    "# Stack row and column indices to create a 2 x N tensor of indices\n",
    "indices = torch.stack([row, col])\n",
    "\n",
    "# Create the PyTorch sparse tensor\n",
    "A_torch = torch.sparse_coo_tensor(indices, values, size=A_sparse_scipy.shape, dtype=torch.float32, device=\"cuda:0\")\n",
    "p_torch = torch.tensor(p_dense_numpy, dtype=torch.float32, device=\"cuda:0\")"
   ]
  },
  {
   "cell_type": "code",
   "execution_count": null,
   "metadata": {},
   "outputs": [
    {
     "name": "stdout",
     "output_type": "stream",
     "text": [
      "3.51 ms ± 2.37 µs per loop (mean ± std. dev. of 7 runs, 100 loops each)\n"
     ]
    }
   ],
   "source": [
    "%timeit torch.sparse.mm(A_torch, p_torch)"
   ]
  },
  {
   "cell_type": "code",
   "execution_count": null,
   "metadata": {},
   "outputs": [
    {
     "name": "stderr",
     "output_type": "stream",
     "text": [
      "I0000 00:00:1730740916.427316  253471 gpu_device.cc:2022] Created device /job:localhost/replica:0/task:0/device:GPU:0 with 22216 MB memory:  -> device: 0, name: NVIDIA GeForce RTX 3090, pci bus id: 0000:08:00.0, compute capability: 8.6\n",
      "I0000 00:00:1730740916.427767  253471 gpu_device.cc:2022] Created device /job:localhost/replica:0/task:0/device:GPU:1 with 22430 MB memory:  -> device: 1, name: NVIDIA GeForce RTX 3090, pci bus id: 0000:41:00.0, compute capability: 8.6\n"
     ]
    }
   ],
   "source": [
    "# Extract row indices, column indices, and data values\n",
    "indices = np.vstack((A_sparse_scipy.row, A_sparse_scipy.col)).T\n",
    "values = A_sparse_scipy.data\n",
    "dense_shape = A_sparse_scipy.shape\n",
    "\n",
    "# Create a TensorFlow SparseTensor on GPU\n",
    "with tf.device('/GPU:0'):  # Specify the GPU device\n",
    "    A_tf = tf.SparseTensor(indices=tf.convert_to_tensor(indices, dtype=tf.int64),\n",
    "                                   values=tf.convert_to_tensor(values, dtype=tf.float32),\n",
    "                                   dense_shape=tf.convert_to_tensor(dense_shape, dtype=tf.int64))\n",
    "    p_tf = tf.convert_to_tensor(p_dense_numpy, dtype=tf.float32)"
   ]
  },
  {
   "cell_type": "code",
   "execution_count": null,
   "metadata": {},
   "outputs": [
    {
     "name": "stdout",
     "output_type": "stream",
     "text": [
      "275 µs ± 9.15 µs per loop (mean ± std. dev. of 7 runs, 1,000 loops each)\n"
     ]
    }
   ],
   "source": [
    "%timeit tf.sparse.sparse_dense_matmul(A_tf, tf.reshape(p_tf, (-1, 1)))"
   ]
  },
  {
   "cell_type": "code",
   "execution_count": null,
   "metadata": {},
   "outputs": [],
   "source": []
  }
 ],
 "metadata": {
  "kernelspec": {
   "display_name": "venv",
   "language": "python",
   "name": "python3"
  },
  "language_info": {
   "codemirror_mode": {
    "name": "ipython",
    "version": 3
   },
   "file_extension": ".py",
   "mimetype": "text/x-python",
   "name": "python",
   "nbconvert_exporter": "python",
   "pygments_lexer": "ipython3",
   "version": "3.11.10"
  }
 },
 "nbformat": 4,
 "nbformat_minor": 2
}
