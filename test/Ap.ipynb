{
 "cells": [
  {
   "cell_type": "code",
   "execution_count": 1,
   "metadata": {},
   "outputs": [
    {
     "name": "stderr",
     "output_type": "stream",
     "text": [
      "2024-11-04 20:30:28.325725: E external/local_xla/xla/stream_executor/cuda/cuda_fft.cc:477] Unable to register cuFFT factory: Attempting to register factory for plugin cuFFT when one has already been registered\n",
      "WARNING: All log messages before absl::InitializeLog() is called are written to STDERR\n",
      "E0000 00:00:1730752228.341338  260487 cuda_dnn.cc:8310] Unable to register cuDNN factory: Attempting to register factory for plugin cuDNN when one has already been registered\n",
      "E0000 00:00:1730752228.346093  260487 cuda_blas.cc:1418] Unable to register cuBLAS factory: Attempting to register factory for plugin cuBLAS when one has already been registered\n",
      "2024-11-04 20:30:28.361766: I tensorflow/core/platform/cpu_feature_guard.cc:210] This TensorFlow binary is optimized to use available CPU instructions in performance-critical operations.\n",
      "To enable the following instructions: AVX2 FMA, in other operations, rebuild TensorFlow with the appropriate compiler flags.\n"
     ]
    }
   ],
   "source": [
    "import scipy.sparse as sp\n",
    "import numpy as np\n",
    "import torch \n",
    "import tensorflow as tf\n",
    "\n",
    "# Load the sparse matrix from the .npz file\n",
    "A_sparse_scipy = sp.load_npz('A_sparse_scipy.npz')\n",
    "p_dense_numpy = np.load('A_numpy.npy')"
   ]
  },
  {
   "cell_type": "code",
   "execution_count": null,
   "metadata": {},
   "outputs": [],
   "source": [
    "A_sparse_scipy = A_sparse_scipy.tocoo()\n",
    "\n",
    "# Extract row, column, and data arrays from the SciPy sparse matrix\n",
    "row = torch.from_numpy(A_sparse_scipy.row).long()\n",
    "col = torch.from_numpy(A_sparse_scipy.col).long()\n",
    "values = torch.from_numpy(A_sparse_scipy.data)\n",
    "\n",
    "# Stack row and column indices to create a 2 x N tensor of indices\n",
    "indices = torch.stack([row, col])\n",
    "\n",
    "# Create the PyTorch sparse tensor\n",
    "A_torch = torch.sparse_coo_tensor(indices, values, size=A_sparse_scipy.shape, dtype=torch.float32, device=\"cuda:0\")\n",
    "A_torch = A_torch.to_sparse_csr()\n",
    "p_torch = torch.tensor(p_dense_numpy, dtype=torch.float32, device=\"cuda:0\")"
   ]
  },
  {
   "cell_type": "code",
   "execution_count": 8,
   "metadata": {},
   "outputs": [
    {
     "name": "stdout",
     "output_type": "stream",
     "text": [
      "67.2 µs ± 57.1 ns per loop (mean ± std. dev. of 7 runs, 10,000 loops each)\n"
     ]
    }
   ],
   "source": [
    "%timeit torch.sparse.mm(A_torch, p_torch)"
   ]
  },
  {
   "cell_type": "code",
   "execution_count": 9,
   "metadata": {},
   "outputs": [],
   "source": [
    "# Extract row indices, column indices, and data values\n",
    "indices = np.vstack((A_sparse_scipy.row, A_sparse_scipy.col)).T\n",
    "values = A_sparse_scipy.data\n",
    "dense_shape = A_sparse_scipy.shape\n",
    "\n",
    "# Create a TensorFlow SparseTensor on GPU\n",
    "with tf.device('/GPU:0'):  # Specify the GPU device\n",
    "    A_tf = tf.SparseTensor(indices=tf.convert_to_tensor(indices, dtype=tf.int64),\n",
    "                                   values=tf.convert_to_tensor(values, dtype=tf.float32),\n",
    "                                   dense_shape=tf.convert_to_tensor(dense_shape, dtype=tf.int64))\n",
    "    p_tf = tf.convert_to_tensor(p_dense_numpy, dtype=tf.float32)"
   ]
  },
  {
   "cell_type": "code",
   "execution_count": 10,
   "metadata": {},
   "outputs": [
    {
     "name": "stdout",
     "output_type": "stream",
     "text": [
      "275 µs ± 13.3 µs per loop (mean ± std. dev. of 7 runs, 1,000 loops each)\n"
     ]
    }
   ],
   "source": [
    "%timeit tf.sparse.sparse_dense_matmul(A_tf, tf.reshape(p_tf, (-1, 1)))"
   ]
  },
  {
   "cell_type": "code",
   "execution_count": null,
   "metadata": {},
   "outputs": [],
   "source": []
  }
 ],
 "metadata": {
  "kernelspec": {
   "display_name": "PDEnsorflow",
   "language": "python",
   "name": "python3"
  },
  "language_info": {
   "codemirror_mode": {
    "name": "ipython",
    "version": 3
   },
   "file_extension": ".py",
   "mimetype": "text/x-python",
   "name": "python",
   "nbconvert_exporter": "python",
   "pygments_lexer": "ipython3",
   "version": "3.9.20"
  }
 },
 "nbformat": 4,
 "nbformat_minor": 2
}
